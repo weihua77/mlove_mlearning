{
 "cells": [
  {
   "cell_type": "markdown",
   "metadata": {},
   "source": [
    "## Movie Review Classifier\n",
    "### (Natural Languate Processing and Machine Learning)\n",
    "#### Large Movie Review Dataset v1.0\n",
    "\n",
    "Collected by Andrew Maas from Stanford.<br>\n",
    "http://ai.stanford.edu/~amaas/data/sentiment/index.html\n",
    "\n",
    "50,000 IMDB movie review texts<br>\n",
    "Binary classification problem: positve, negative<br>\n",
    "25,000 highly polar movie reviews for training<br>\n",
    "25,000 for testing.<br>"
   ]
  },
  {
   "cell_type": "code",
   "execution_count": 15,
   "metadata": {},
   "outputs": [
    {
     "name": "stdout",
     "output_type": "stream",
     "text": [
      "\u001b[01;34mHowToBuild/aclImdb/\u001b[00m\r\n",
      "├── README\r\n",
      "├── imdb.vocab\r\n",
      "├── imdbEr.txt\r\n",
      "├── \u001b[01;34mtest\u001b[00m\r\n",
      "│   ├── labeledBow.feat\r\n",
      "│   ├── \u001b[01;34mneg\u001b[00m\r\n",
      "│   ├── \u001b[01;34mpos\u001b[00m\r\n",
      "│   ├── urls_neg.txt\r\n",
      "│   └── urls_pos.txt\r\n",
      "└── \u001b[01;34mtrain\u001b[00m\r\n",
      "    ├── labeledBow.feat\r\n",
      "    ├── \u001b[01;34mneg\u001b[00m\r\n",
      "    ├── \u001b[01;34mpos\u001b[00m\r\n",
      "    ├── \u001b[01;34munsup\u001b[00m\r\n",
      "    ├── unsupBow.feat\r\n",
      "    ├── urls_neg.txt\r\n",
      "    ├── urls_pos.txt\r\n",
      "    └── urls_unsup.txt\r\n",
      "\r\n",
      "7 directories, 11 files\r\n"
     ]
    }
   ],
   "source": [
    "!tree -L 2 -C HowToBuild/aclImdb/"
   ]
  },
  {
   "cell_type": "markdown",
   "metadata": {},
   "source": [
    "### Load files into a training data set"
   ]
  },
  {
   "cell_type": "code",
   "execution_count": 32,
   "metadata": {},
   "outputs": [
    {
     "data": {
      "text/plain": [
       "sklearn.utils.Bunch"
      ]
     },
     "execution_count": 32,
     "metadata": {},
     "output_type": "execute_result"
    }
   ],
   "source": [
    "from sklearn.datasets import load_files\n",
    "review_train = load_files('HowToBuild/aclImdb/train/', \n",
    "                          categories=['neg','pos'], shuffle=False)\n",
    "type(review_train)"
   ]
  },
  {
   "cell_type": "code",
   "execution_count": 33,
   "metadata": {},
   "outputs": [
    {
     "data": {
      "text/plain": [
       "dict_keys(['data', 'filenames', 'target_names', 'target', 'DESCR'])"
      ]
     },
     "execution_count": 33,
     "metadata": {},
     "output_type": "execute_result"
    }
   ],
   "source": [
    "review_train.keys()"
   ]
  },
  {
   "cell_type": "code",
   "execution_count": 34,
   "metadata": {},
   "outputs": [
    {
     "name": "stdout",
     "output_type": "stream",
     "text": [
      "25000\n",
      "(25000,)\n"
     ]
    }
   ],
   "source": [
    "print(len(review_train.data))\n",
    "print(review_train.target.shape)"
   ]
  },
  {
   "cell_type": "code",
   "execution_count": null,
   "metadata": {
    "collapsed": true
   },
   "outputs": [],
   "source": []
  },
  {
   "cell_type": "code",
   "execution_count": 35,
   "metadata": {},
   "outputs": [
    {
     "name": "stdout",
     "output_type": "stream",
     "text": [
      "['HowToBuild/aclImdb/train/neg/0_3.txt'\n",
      " 'HowToBuild/aclImdb/train/neg/10000_4.txt'\n",
      " 'HowToBuild/aclImdb/train/neg/10001_4.txt'\n",
      " 'HowToBuild/aclImdb/train/neg/10002_1.txt'\n",
      " 'HowToBuild/aclImdb/train/neg/10003_1.txt'\n",
      " 'HowToBuild/aclImdb/train/neg/10004_3.txt'\n",
      " 'HowToBuild/aclImdb/train/neg/10005_3.txt'\n",
      " 'HowToBuild/aclImdb/train/neg/10006_4.txt'\n",
      " 'HowToBuild/aclImdb/train/neg/10007_1.txt'\n",
      " 'HowToBuild/aclImdb/train/neg/10008_2.txt']\n"
     ]
    }
   ],
   "source": [
    "print(review_train.filenames[:10])"
   ]
  },
  {
   "cell_type": "code",
   "execution_count": 41,
   "metadata": {},
   "outputs": [
    {
     "name": "stdout",
     "output_type": "stream",
     "text": [
      "[1 1 1 1 1 1 1 1 1 1]\n"
     ]
    }
   ],
   "source": [
    "X, y = review_train.data, review_train.target\n",
    "#print(len(X), y.shape)\n",
    "X = [txt.replace(b'<br />',b'') for txt in X]\n",
    "#print(X[10])\n",
    "print(y[-10:])"
   ]
  },
  {
   "cell_type": "code",
   "execution_count": 44,
   "metadata": {},
   "outputs": [
    {
     "data": {
      "text/plain": [
       "(list, numpy.ndarray)"
      ]
     },
     "execution_count": 44,
     "metadata": {},
     "output_type": "execute_result"
    }
   ],
   "source": [
    "type(X), type(y)"
   ]
  },
  {
   "cell_type": "markdown",
   "metadata": {},
   "source": [
    "### Convert Texts into numerical arrays (Bag of Words)"
   ]
  },
  {
   "cell_type": "code",
   "execution_count": 46,
   "metadata": {},
   "outputs": [
    {
     "data": {
      "text/plain": [
       "scipy.sparse.csr.csr_matrix"
      ]
     },
     "execution_count": 46,
     "metadata": {},
     "output_type": "execute_result"
    }
   ],
   "source": [
    "from sklearn.feature_extraction.text import CountVectorizer\n",
    "vocab = CountVectorizer()\n",
    "vocab.fit(X)\n",
    "x = vocab.transform(X)\n",
    "type(x)"
   ]
  },
  {
   "cell_type": "code",
   "execution_count": 47,
   "metadata": {},
   "outputs": [
    {
     "data": {
      "text/plain": [
       "(25000, 75911)"
      ]
     },
     "execution_count": 47,
     "metadata": {},
     "output_type": "execute_result"
    }
   ],
   "source": [
    "x.shape"
   ]
  },
  {
   "cell_type": "code",
   "execution_count": 89,
   "metadata": {},
   "outputs": [
    {
     "data": {
      "text/plain": [
       "0"
      ]
     },
     "execution_count": 89,
     "metadata": {},
     "output_type": "execute_result"
    }
   ],
   "source": [
    "x[1,3]"
   ]
  },
  {
   "cell_type": "code",
   "execution_count": 50,
   "metadata": {},
   "outputs": [
    {
     "name": "stdout",
     "output_type": "stream",
     "text": [
      "['00', '000', '0000000000001', '00001', '00015', '000s', '001', '003830', '006', '007']\n",
      "['était', 'état', 'étc', 'évery', 'êxtase', 'ís', 'ísnt', 'østbye', 'über', 'üvegtigris']\n",
      "['ireland', 'irena', 'irene', 'iridescent', 'irina', 'iris', 'irises', 'irish', 'irishman', 'irishmen']\n"
     ]
    }
   ],
   "source": [
    "print(vocab.get_feature_names()[:10])\n",
    "print(vocab.get_feature_names()[-10:])\n",
    "print(vocab.get_feature_names()[35000:35010])"
   ]
  },
  {
   "cell_type": "code",
   "execution_count": 52,
   "metadata": {},
   "outputs": [
    {
     "data": {
      "text/plain": [
       "numpy.matrixlib.defmatrix.matrix"
      ]
     },
     "execution_count": 52,
     "metadata": {},
     "output_type": "execute_result"
    }
   ],
   "source": [
    "import numpy as np \n",
    "word_total_counts = np.sum(x, axis=0)\n",
    "type(word_total_counts)"
   ]
  },
  {
   "cell_type": "code",
   "execution_count": 57,
   "metadata": {},
   "outputs": [
    {
     "data": {
      "text/plain": [
       "matrix([[ 93, 300,   1, ...,   1,   4,   1]], dtype=int64)"
      ]
     },
     "execution_count": 57,
     "metadata": {},
     "output_type": "execute_result"
    }
   ],
   "source": [
    "word_total_counts"
   ]
  },
  {
   "cell_type": "code",
   "execution_count": 59,
   "metadata": {},
   "outputs": [
    {
     "name": "stdout",
     "output_type": "stream",
     "text": [
      "300\n"
     ]
    }
   ],
   "source": [
    "print(word_total_counts[0,1])"
   ]
  },
  {
   "cell_type": "code",
   "execution_count": 81,
   "metadata": {},
   "outputs": [
    {
     "name": "stdout",
     "output_type": "stream",
     "text": [
      "(1, 75911)\n",
      "[[73209 67222 67505 33505 35211 35099 68091 47352  3375 67244]]\n",
      "[[37955 39352 39354 39359 39360 39361 39366 39376 39346 39383]]\n",
      "['was', 'that', 'this', 'in', 'it', 'is', 'to', 'of', 'and', 'the']\n",
      "['labourers', 'lilienthal', 'lilililililii', 'lilleheie', 'lillete', 'lilley', 'lillihamer', 'liman', 'likings', 'limbless']\n"
     ]
    }
   ],
   "source": [
    "idx_sorted = np.argsort(word_total_counts)\n",
    "print(idx_sorted.shape)\n",
    "print(idx_sorted[0, -10:])\n",
    "print(idx_sorted[0, :10])\n",
    "words_list = vocab.get_feature_names()\n",
    "\n",
    "most_freq_words  = [words_list[idx_sorted[0,i]] for i in range(-10,0)]\n",
    "least_freq_words = [words_list[idx_sorted[0,i]] for i in range(10)]\n",
    "print(most_freq_words)\n",
    "print(least_freq_words)"
   ]
  },
  {
   "cell_type": "code",
   "execution_count": 84,
   "metadata": {},
   "outputs": [
    {
     "data": {
      "text/plain": [
       "'limbless'"
      ]
     },
     "execution_count": 84,
     "metadata": {},
     "output_type": "execute_result"
    }
   ],
   "source": [
    "words_list[39383]"
   ]
  },
  {
   "cell_type": "markdown",
   "metadata": {},
   "source": [
    "### Choose Machine Learning Algorithm and Start Training"
   ]
  },
  {
   "cell_type": "code",
   "execution_count": null,
   "metadata": {
    "collapsed": true
   },
   "outputs": [],
   "source": [
    "from sklearn.linear_model import LogisticRegression\n",
    "lgr = LogisticRegression()\n",
    "lgr.fit(x)\n",
    "\n",
    "#load test data\n",
    "review_test = load_files('HowToBuild/aclImdb/test/', \n",
    "                         categories=['neg','pos'], shuffle=False)\n",
    "X_test, y = review_test.data, review_test.target\n",
    "x_test = Coun"
   ]
  },
  {
   "cell_type": "markdown",
   "metadata": {},
   "source": [
    "### Test Model Accuracy and Improve the Model"
   ]
  },
  {
   "cell_type": "code",
   "execution_count": null,
   "metadata": {
    "collapsed": true
   },
   "outputs": [],
   "source": []
  }
 ],
 "metadata": {
  "kernelspec": {
   "display_name": "Python 3",
   "language": "python",
   "name": "python3"
  },
  "language_info": {
   "codemirror_mode": {
    "name": "ipython",
    "version": 3
   },
   "file_extension": ".py",
   "mimetype": "text/x-python",
   "name": "python",
   "nbconvert_exporter": "python",
   "pygments_lexer": "ipython3",
   "version": "3.6.1"
  }
 },
 "nbformat": 4,
 "nbformat_minor": 2
}
